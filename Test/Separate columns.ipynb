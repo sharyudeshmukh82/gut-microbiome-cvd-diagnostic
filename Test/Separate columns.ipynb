{
 "cells": [
  {
   "cell_type": "code",
   "execution_count": null,
   "id": "6ca2580d",
   "metadata": {},
   "outputs": [],
   "source": [
    "import pandas as pd\n",
    "import os\n",
    "\n",
    "file = '/Users/sharyu/Lab/Data/FinalTaxaData.xlsx'\n",
    "\n",
    "# Assuming your data is in a file named \"data.xlsx\" in the same directory\n",
    "data = pd.read_excel(file, skiprows=2)"
   ]
  },
  {
   "cell_type": "code",
   "execution_count": null,
   "id": "ec50d81b",
   "metadata": {},
   "outputs": [],
   "source": [
    "biom_table = load_table(tsv_filename)\n"
   ]
  },
  {
   "cell_type": "code",
   "execution_count": 10,
   "id": "32779761",
   "metadata": {},
   "outputs": [
    {
     "ename": "KeyError",
     "evalue": "'Taxon'",
     "output_type": "error",
     "traceback": [
      "\u001b[0;31m---------------------------------------------------------------------------\u001b[0m",
      "\u001b[0;31mKeyError\u001b[0m                                  Traceback (most recent call last)",
      "File \u001b[0;32m~/anaconda3/lib/python3.10/site-packages/pandas/core/indexes/base.py:3802\u001b[0m, in \u001b[0;36mIndex.get_loc\u001b[0;34m(self, key, method, tolerance)\u001b[0m\n\u001b[1;32m   3801\u001b[0m \u001b[38;5;28;01mtry\u001b[39;00m:\n\u001b[0;32m-> 3802\u001b[0m     \u001b[38;5;28;01mreturn\u001b[39;00m \u001b[38;5;28;43mself\u001b[39;49m\u001b[38;5;241;43m.\u001b[39;49m\u001b[43m_engine\u001b[49m\u001b[38;5;241;43m.\u001b[39;49m\u001b[43mget_loc\u001b[49m\u001b[43m(\u001b[49m\u001b[43mcasted_key\u001b[49m\u001b[43m)\u001b[49m\n\u001b[1;32m   3803\u001b[0m \u001b[38;5;28;01mexcept\u001b[39;00m \u001b[38;5;167;01mKeyError\u001b[39;00m \u001b[38;5;28;01mas\u001b[39;00m err:\n",
      "File \u001b[0;32m~/anaconda3/lib/python3.10/site-packages/pandas/_libs/index.pyx:138\u001b[0m, in \u001b[0;36mpandas._libs.index.IndexEngine.get_loc\u001b[0;34m()\u001b[0m\n",
      "File \u001b[0;32m~/anaconda3/lib/python3.10/site-packages/pandas/_libs/index.pyx:165\u001b[0m, in \u001b[0;36mpandas._libs.index.IndexEngine.get_loc\u001b[0;34m()\u001b[0m\n",
      "File \u001b[0;32mpandas/_libs/hashtable_class_helper.pxi:5745\u001b[0m, in \u001b[0;36mpandas._libs.hashtable.PyObjectHashTable.get_item\u001b[0;34m()\u001b[0m\n",
      "File \u001b[0;32mpandas/_libs/hashtable_class_helper.pxi:5753\u001b[0m, in \u001b[0;36mpandas._libs.hashtable.PyObjectHashTable.get_item\u001b[0;34m()\u001b[0m\n",
      "\u001b[0;31mKeyError\u001b[0m: 'Taxon'",
      "\nThe above exception was the direct cause of the following exception:\n",
      "\u001b[0;31mKeyError\u001b[0m                                  Traceback (most recent call last)",
      "Cell \u001b[0;32mIn[10], line 4\u001b[0m\n\u001b[1;32m      1\u001b[0m \u001b[38;5;66;03m#tax_defined_observations.tsv\u001b[39;00m\n\u001b[1;32m      2\u001b[0m \u001b[38;5;66;03m# print(data['Taxon'].dtype)\u001b[39;00m\n\u001b[1;32m      3\u001b[0m \u001b[38;5;66;03m# Split the \"taxa\" column on the semicolon and expand it into multiple columns\u001b[39;00m\n\u001b[0;32m----> 4\u001b[0m data[[\u001b[38;5;124m'\u001b[39m\u001b[38;5;124mk\u001b[39m\u001b[38;5;124m'\u001b[39m, \u001b[38;5;124m'\u001b[39m\u001b[38;5;124mp\u001b[39m\u001b[38;5;124m'\u001b[39m, \u001b[38;5;124m'\u001b[39m\u001b[38;5;124mc\u001b[39m\u001b[38;5;124m'\u001b[39m, \u001b[38;5;124m'\u001b[39m\u001b[38;5;124mo\u001b[39m\u001b[38;5;124m'\u001b[39m, \u001b[38;5;124m'\u001b[39m\u001b[38;5;124mf\u001b[39m\u001b[38;5;124m'\u001b[39m, \u001b[38;5;124m'\u001b[39m\u001b[38;5;124mg\u001b[39m\u001b[38;5;124m'\u001b[39m, \u001b[38;5;124m'\u001b[39m\u001b[38;5;124ms\u001b[39m\u001b[38;5;124m'\u001b[39m]] \u001b[38;5;241m=\u001b[39m \u001b[43mdata\u001b[49m\u001b[43m[\u001b[49m\u001b[38;5;124;43m'\u001b[39;49m\u001b[38;5;124;43mTaxon\u001b[39;49m\u001b[38;5;124;43m'\u001b[39;49m\u001b[43m]\u001b[49m\u001b[38;5;241m.\u001b[39mstr\u001b[38;5;241m.\u001b[39msplit(\u001b[38;5;124m'\u001b[39m\u001b[38;5;124m;\u001b[39m\u001b[38;5;124m'\u001b[39m, expand\u001b[38;5;241m=\u001b[39m\u001b[38;5;28;01mTrue\u001b[39;00m)\n\u001b[1;32m      6\u001b[0m \u001b[38;5;66;03m# Remove the leading \"__\" and trailing whitespace from each cell in the new columns\u001b[39;00m\n\u001b[1;32m      7\u001b[0m data[\u001b[38;5;124m'\u001b[39m\u001b[38;5;124mk\u001b[39m\u001b[38;5;124m'\u001b[39m] \u001b[38;5;241m=\u001b[39m data[\u001b[38;5;124m'\u001b[39m\u001b[38;5;124mk\u001b[39m\u001b[38;5;124m'\u001b[39m]\u001b[38;5;241m.\u001b[39mstr\u001b[38;5;241m.\u001b[39mstrip()\u001b[38;5;241m.\u001b[39mstr\u001b[38;5;241m.\u001b[39mreplace(\u001b[38;5;124m'\u001b[39m\u001b[38;5;124mk__\u001b[39m\u001b[38;5;124m'\u001b[39m, \u001b[38;5;124m'\u001b[39m\u001b[38;5;124m'\u001b[39m)\n",
      "File \u001b[0;32m~/anaconda3/lib/python3.10/site-packages/pandas/core/frame.py:3807\u001b[0m, in \u001b[0;36mDataFrame.__getitem__\u001b[0;34m(self, key)\u001b[0m\n\u001b[1;32m   3805\u001b[0m \u001b[38;5;28;01mif\u001b[39;00m \u001b[38;5;28mself\u001b[39m\u001b[38;5;241m.\u001b[39mcolumns\u001b[38;5;241m.\u001b[39mnlevels \u001b[38;5;241m>\u001b[39m \u001b[38;5;241m1\u001b[39m:\n\u001b[1;32m   3806\u001b[0m     \u001b[38;5;28;01mreturn\u001b[39;00m \u001b[38;5;28mself\u001b[39m\u001b[38;5;241m.\u001b[39m_getitem_multilevel(key)\n\u001b[0;32m-> 3807\u001b[0m indexer \u001b[38;5;241m=\u001b[39m \u001b[38;5;28;43mself\u001b[39;49m\u001b[38;5;241;43m.\u001b[39;49m\u001b[43mcolumns\u001b[49m\u001b[38;5;241;43m.\u001b[39;49m\u001b[43mget_loc\u001b[49m\u001b[43m(\u001b[49m\u001b[43mkey\u001b[49m\u001b[43m)\u001b[49m\n\u001b[1;32m   3808\u001b[0m \u001b[38;5;28;01mif\u001b[39;00m is_integer(indexer):\n\u001b[1;32m   3809\u001b[0m     indexer \u001b[38;5;241m=\u001b[39m [indexer]\n",
      "File \u001b[0;32m~/anaconda3/lib/python3.10/site-packages/pandas/core/indexes/base.py:3804\u001b[0m, in \u001b[0;36mIndex.get_loc\u001b[0;34m(self, key, method, tolerance)\u001b[0m\n\u001b[1;32m   3802\u001b[0m     \u001b[38;5;28;01mreturn\u001b[39;00m \u001b[38;5;28mself\u001b[39m\u001b[38;5;241m.\u001b[39m_engine\u001b[38;5;241m.\u001b[39mget_loc(casted_key)\n\u001b[1;32m   3803\u001b[0m \u001b[38;5;28;01mexcept\u001b[39;00m \u001b[38;5;167;01mKeyError\u001b[39;00m \u001b[38;5;28;01mas\u001b[39;00m err:\n\u001b[0;32m-> 3804\u001b[0m     \u001b[38;5;28;01mraise\u001b[39;00m \u001b[38;5;167;01mKeyError\u001b[39;00m(key) \u001b[38;5;28;01mfrom\u001b[39;00m \u001b[38;5;21;01merr\u001b[39;00m\n\u001b[1;32m   3805\u001b[0m \u001b[38;5;28;01mexcept\u001b[39;00m \u001b[38;5;167;01mTypeError\u001b[39;00m:\n\u001b[1;32m   3806\u001b[0m     \u001b[38;5;66;03m# If we have a listlike key, _check_indexing_error will raise\u001b[39;00m\n\u001b[1;32m   3807\u001b[0m     \u001b[38;5;66;03m#  InvalidIndexError. Otherwise we fall through and re-raise\u001b[39;00m\n\u001b[1;32m   3808\u001b[0m     \u001b[38;5;66;03m#  the TypeError.\u001b[39;00m\n\u001b[1;32m   3809\u001b[0m     \u001b[38;5;28mself\u001b[39m\u001b[38;5;241m.\u001b[39m_check_indexing_error(key)\n",
      "\u001b[0;31mKeyError\u001b[0m: 'Taxon'"
     ]
    }
   ],
   "source": [
    "\n",
    "#tax_defined_observations.tsv\n",
    "# print(data['Taxon'].dtype)\n",
    "# Split the \"taxa\" column on the semicolon and expand it into multiple columns\n",
    "data[['k', 'p', 'c', 'o', 'f', 'g', 's']] = data['Taxon'].str.split(';', expand=True)\n",
    "\n",
    "# Remove the leading \"__\" and trailing whitespace from each cell in the new columns\n",
    "data['k'] = data['k'].str.strip().str.replace('k__', '')\n",
    "data['p'] = data['p'].str.strip().str.replace('p__', '')\n",
    "data['c'] = data['c'].str.strip().str.replace('c__', '')\n",
    "data['o'] = data['o'].str.strip().str.replace('o__', '')\n",
    "data['f'] = data['f'].str.strip().str.replace('f__', '')\n",
    "data['g'] = data['g'].str.strip().str.replace('g__', '')\n",
    "data['s'] = data['s'].str.strip().str.replace('s__', '')\n",
    "\n",
    "# Print the updated dataframe with new columns\n",
    "print(data)\n",
    "\n",
    "data.to_excel('updated_data.xlsx', index=False)\n",
    "\n",
    "print(\"New Excel file 'updated_data.xlsx' created with the updated data.\")\n"
   ]
  },
  {
   "cell_type": "code",
   "execution_count": 3,
   "id": "176803b8",
   "metadata": {},
   "outputs": [
    {
     "ename": "TypeError",
     "evalue": "stat: path should be string, bytes, os.PathLike or integer, not DataFrame",
     "output_type": "error",
     "traceback": [
      "\u001b[0;31m---------------------------------------------------------------------------\u001b[0m",
      "\u001b[0;31mTypeError\u001b[0m                                 Traceback (most recent call last)",
      "Cell \u001b[0;32mIn[3], line 12\u001b[0m\n\u001b[1;32m      4\u001b[0m \u001b[38;5;66;03m# Load the biom table\u001b[39;00m\n\u001b[1;32m      5\u001b[0m \u001b[38;5;66;03m# biom_table = load_table(\"variable_table.biom\")\u001b[39;00m\n\u001b[1;32m      6\u001b[0m \n\u001b[0;32m   (...)\u001b[0m\n\u001b[1;32m      9\u001b[0m \n\u001b[1;32m     10\u001b[0m \u001b[38;5;66;03m# Extract the \"taxa\" column from the biom table\u001b[39;00m\n\u001b[1;32m     11\u001b[0m data \u001b[38;5;241m=\u001b[39m pd\u001b[38;5;241m.\u001b[39mread_excel(\u001b[38;5;124m'\u001b[39m\u001b[38;5;124m/Users/sharyu/Lab/Data/DataSample.xlsx\u001b[39m\u001b[38;5;124m'\u001b[39m)\n\u001b[0;32m---> 12\u001b[0m biom_table \u001b[38;5;241m=\u001b[39m \u001b[43mload_table\u001b[49m\u001b[43m(\u001b[49m\u001b[43mdata\u001b[49m\u001b[43m)\u001b[49m\n\u001b[1;32m     14\u001b[0m \u001b[38;5;66;03m# Split the \"taxa\" column on the semicolon and expand it into multiple columns\u001b[39;00m\n\u001b[1;32m     15\u001b[0m data[[\u001b[38;5;124m'\u001b[39m\u001b[38;5;124mk\u001b[39m\u001b[38;5;124m'\u001b[39m, \u001b[38;5;124m'\u001b[39m\u001b[38;5;124mp\u001b[39m\u001b[38;5;124m'\u001b[39m, \u001b[38;5;124m'\u001b[39m\u001b[38;5;124mc\u001b[39m\u001b[38;5;124m'\u001b[39m, \u001b[38;5;124m'\u001b[39m\u001b[38;5;124mo\u001b[39m\u001b[38;5;124m'\u001b[39m, \u001b[38;5;124m'\u001b[39m\u001b[38;5;124mf\u001b[39m\u001b[38;5;124m'\u001b[39m, \u001b[38;5;124m'\u001b[39m\u001b[38;5;124mg\u001b[39m\u001b[38;5;124m'\u001b[39m, \u001b[38;5;124m'\u001b[39m\u001b[38;5;124ms\u001b[39m\u001b[38;5;124m'\u001b[39m]] \u001b[38;5;241m=\u001b[39m data[\u001b[38;5;124m'\u001b[39m\u001b[38;5;124mtaxo\u001b[39m\u001b[38;5;124m'\u001b[39m]\u001b[38;5;241m.\u001b[39mstr\u001b[38;5;241m.\u001b[39msplit(\u001b[38;5;124m'\u001b[39m\u001b[38;5;124m; \u001b[39m\u001b[38;5;124m'\u001b[39m, expand\u001b[38;5;241m=\u001b[39m\u001b[38;5;28;01mTrue\u001b[39;00m)\n",
      "File \u001b[0;32m~/anaconda3/lib/python3.10/site-packages/biom/parse.py:666\u001b[0m, in \u001b[0;36mload_table\u001b[0;34m(f)\u001b[0m\n\u001b[1;32m    664\u001b[0m         \u001b[38;5;28;01mraise\u001b[39;00m \u001b[38;5;167;01mTypeError\u001b[39;00m(\u001b[38;5;124m\"\u001b[39m\u001b[38;5;132;01m%s\u001b[39;00m\u001b[38;5;124m does not appear to be a BIOM file!\u001b[39m\u001b[38;5;124m\"\u001b[39m \u001b[38;5;241m%\u001b[39m f)\n\u001b[1;32m    665\u001b[0m \u001b[38;5;28;01melse\u001b[39;00m:\n\u001b[0;32m--> 666\u001b[0m     \u001b[38;5;28;01mwith\u001b[39;00m biom_open(f) \u001b[38;5;28;01mas\u001b[39;00m fp:\n\u001b[1;32m    667\u001b[0m         \u001b[38;5;28;01mtry\u001b[39;00m:\n\u001b[1;32m    668\u001b[0m             table \u001b[38;5;241m=\u001b[39m parse_biom_table(fp)\n",
      "File \u001b[0;32m~/anaconda3/lib/python3.10/contextlib.py:135\u001b[0m, in \u001b[0;36m_GeneratorContextManager.__enter__\u001b[0;34m(self)\u001b[0m\n\u001b[1;32m    133\u001b[0m \u001b[38;5;28;01mdel\u001b[39;00m \u001b[38;5;28mself\u001b[39m\u001b[38;5;241m.\u001b[39margs, \u001b[38;5;28mself\u001b[39m\u001b[38;5;241m.\u001b[39mkwds, \u001b[38;5;28mself\u001b[39m\u001b[38;5;241m.\u001b[39mfunc\n\u001b[1;32m    134\u001b[0m \u001b[38;5;28;01mtry\u001b[39;00m:\n\u001b[0;32m--> 135\u001b[0m     \u001b[38;5;28;01mreturn\u001b[39;00m \u001b[38;5;28;43mnext\u001b[39;49m\u001b[43m(\u001b[49m\u001b[38;5;28;43mself\u001b[39;49m\u001b[38;5;241;43m.\u001b[39;49m\u001b[43mgen\u001b[49m\u001b[43m)\u001b[49m\n\u001b[1;32m    136\u001b[0m \u001b[38;5;28;01mexcept\u001b[39;00m \u001b[38;5;167;01mStopIteration\u001b[39;00m:\n\u001b[1;32m    137\u001b[0m     \u001b[38;5;28;01mraise\u001b[39;00m \u001b[38;5;167;01mRuntimeError\u001b[39;00m(\u001b[38;5;124m\"\u001b[39m\u001b[38;5;124mgenerator didn\u001b[39m\u001b[38;5;124m'\u001b[39m\u001b[38;5;124mt yield\u001b[39m\u001b[38;5;124m\"\u001b[39m) \u001b[38;5;28;01mfrom\u001b[39;00m \u001b[38;5;28mNone\u001b[39m\n",
      "File \u001b[0;32m~/anaconda3/lib/python3.10/site-packages/biom/util.py:434\u001b[0m, in \u001b[0;36mbiom_open\u001b[0;34m(fp, permission)\u001b[0m\n\u001b[1;32m    431\u001b[0m \u001b[38;5;66;03m# don't try to open an HDF5 file if H5PY is not installed, this can only\u001b[39;00m\n\u001b[1;32m    432\u001b[0m \u001b[38;5;66;03m# happen if we are reading a file\u001b[39;00m\n\u001b[1;32m    433\u001b[0m \u001b[38;5;28;01mif\u001b[39;00m mode \u001b[38;5;129;01min\u001b[39;00m {\u001b[38;5;124m'\u001b[39m\u001b[38;5;124mr\u001b[39m\u001b[38;5;124m'\u001b[39m, \u001b[38;5;124m'\u001b[39m\u001b[38;5;124mrb\u001b[39m\u001b[38;5;124m'\u001b[39m, \u001b[38;5;124m'\u001b[39m\u001b[38;5;124mU\u001b[39m\u001b[38;5;124m'\u001b[39m}:\n\u001b[0;32m--> 434\u001b[0m     \u001b[38;5;28;01mif\u001b[39;00m \u001b[43mos\u001b[49m\u001b[38;5;241;43m.\u001b[39;49m\u001b[43mpath\u001b[49m\u001b[38;5;241;43m.\u001b[39;49m\u001b[43mgetsize\u001b[49m\u001b[43m(\u001b[49m\u001b[43mfp\u001b[49m\u001b[43m)\u001b[49m \u001b[38;5;241m==\u001b[39m \u001b[38;5;241m0\u001b[39m:\n\u001b[1;32m    435\u001b[0m         \u001b[38;5;28;01mraise\u001b[39;00m \u001b[38;5;167;01mValueError\u001b[39;00m(\u001b[38;5;124m\"\u001b[39m\u001b[38;5;124mThe file \u001b[39m\u001b[38;5;124m'\u001b[39m\u001b[38;5;132;01m%s\u001b[39;00m\u001b[38;5;124m'\u001b[39m\u001b[38;5;124m is empty and can\u001b[39m\u001b[38;5;124m'\u001b[39m\u001b[38;5;124mt be parsed\u001b[39m\u001b[38;5;124m\"\u001b[39m \u001b[38;5;241m%\u001b[39m fp)\n\u001b[1;32m    437\u001b[0m \u001b[38;5;28;01mif\u001b[39;00m mode \u001b[38;5;129;01min\u001b[39;00m [\u001b[38;5;124m'\u001b[39m\u001b[38;5;124mU\u001b[39m\u001b[38;5;124m'\u001b[39m, \u001b[38;5;124m'\u001b[39m\u001b[38;5;124mr\u001b[39m\u001b[38;5;124m'\u001b[39m, \u001b[38;5;124m'\u001b[39m\u001b[38;5;124mrb\u001b[39m\u001b[38;5;124m'\u001b[39m] \u001b[38;5;129;01mand\u001b[39;00m h5py\u001b[38;5;241m.\u001b[39mis_hdf5(fp):\n",
      "File \u001b[0;32m~/anaconda3/lib/python3.10/genericpath.py:50\u001b[0m, in \u001b[0;36mgetsize\u001b[0;34m(filename)\u001b[0m\n\u001b[1;32m     48\u001b[0m \u001b[38;5;28;01mdef\u001b[39;00m \u001b[38;5;21mgetsize\u001b[39m(filename):\n\u001b[1;32m     49\u001b[0m     \u001b[38;5;124;03m\"\"\"Return the size of a file, reported by os.stat().\"\"\"\u001b[39;00m\n\u001b[0;32m---> 50\u001b[0m     \u001b[38;5;28;01mreturn\u001b[39;00m \u001b[43mos\u001b[49m\u001b[38;5;241;43m.\u001b[39;49m\u001b[43mstat\u001b[49m\u001b[43m(\u001b[49m\u001b[43mfilename\u001b[49m\u001b[43m)\u001b[49m\u001b[38;5;241m.\u001b[39mst_size\n",
      "\u001b[0;31mTypeError\u001b[0m: stat: path should be string, bytes, os.PathLike or integer, not DataFrame"
     ]
    }
   ],
   "source": [
    "import pandas as pd\n",
    "from biom import load_table\n",
    "\n",
    "# Load the biom table\n",
    "# biom_table = load_table(\"variable_table.biom\")\n",
    "\n",
    "# Convert biom table to pandas DataFrame\n",
    "# data = pd.DataFrame(biom_table.to_dataframe())\n",
    "\n",
    "# Extract the \"taxa\" column from the biom table\n",
    "data = pd.read_excel('/Users/sharyu/Lab/Data/DataSample.xlsx')\n",
    "biom_table = load_table(data)\n",
    "\n",
    "# Split the \"taxa\" column on the semicolon and expand it into multiple columns\n",
    "data[['k', 'p', 'c', 'o', 'f', 'g', 's']] = data['taxo'].str.split('; ', expand=True)\n",
    "\n",
    "# Remove the hierarchy prefixes from the columns\n",
    "data['k'] = data['k'].str.replace('k__', '')\n",
    "data['p'] = data['p'].str.replace('p__', '')\n",
    "data['c'] = data['c'].str.replace('c__', '')\n",
    "data['o'] = data['o'].str.replace('o__', '')\n",
    "data['f'] = data['f'].str.replace('f__', '')\n",
    "data['g'] = data['g'].str.replace('g__', '')\n",
    "data['s'] = data['s'].str.replace('s__', '')\n",
    "\n",
    "print(data)\n",
    "grouped = data.groupby([ \"g\"], as_index=False).sum()\n",
    "\n",
    "# Display the resulting DataFrame\n",
    "print(filtered_grouped)\n",
    "\n",
    "\n",
    "\n",
    "# # Group by hierarchical levels and sum the data\n",
    "# # grouped_data = data.groupby(['k', 'p', 'c', 'o', 'f', 'g'], as_index=False).sum()\n",
    "\n",
    "# grouped = data.groupby([\"k\", \"p\", \"c\", \"o\", \"f\", \"g\"], as_index=False).sum()\n",
    "\n",
    "# # Print the grouped data\n",
    "# print(grouped)\n",
    "\n",
    "# # grouped.to_excel('updated_data3.xlsx', index=False)\n",
    "\n",
    "print(biom_table)"
   ]
  },
  {
   "cell_type": "code",
   "execution_count": null,
   "id": "864a5eb6",
   "metadata": {},
   "outputs": [],
   "source": [
    "from collections import defaultdict\n",
    "\n",
    "data = [\n",
    "    [\"Bacteria\", \"Actinobacteria\", \"Actinobacteria\", \"Bifidobacteriales\", \"Bifidobacteriaceae\", \"Bifidobacterium\", \"bifidum\", 1, 1, 1],\n",
    "    [\"Bacteria\", \"Actinobacteria\", \" hsgdyc\", \"Bifidobacteriales\", \"Bifidobacteriaceae\", \"sdhcvgfvcbsd\", \"sdbchc he\", 3, 3, 3],\n",
    "    [\"Bacteria\", \"Actinobacteria\", \"yhauxhs\", \"Bifidobacteriales\", \"Bifidobacteriaceae\", \"Bifidobacterium\", \"bifidum\", 2, 2, 2]\n",
    "]\n",
    "\n",
    "grouped_data = defaultdict(list)\n",
    "\n",
    "for item in data:\n",
    "    key = tuple(item[:7])\n",
    "    grouped_data[key].append(item[7:])\n",
    "\n",
    "result = []\n",
    "\n",
    "for key, values in grouped_data.items():\n",
    "    summed_values = [sum(column) if isinstance(column[0], int) else column[0] for column in zip(*values)]\n",
    "    result.append(list(key) + summed_values)\n",
    "\n",
    "for row in result:\n",
    "    print(row)\n"
   ]
  },
  {
   "cell_type": "code",
   "execution_count": 12,
   "id": "572c1447",
   "metadata": {},
   "outputs": [
    {
     "name": "stdout",
     "output_type": "stream",
     "text": [
      "    Kingdom          Phylum           Class              Order  \\\n",
      "0  Bacteria  Actinobacteria  Actinobacteria  Bifidobacteriales   \n",
      "1  Bacteria  Actinobacteria          hsgdyc  Bifidobacteriales   \n",
      "2  Bacteria  Actinobacteria         yhauxhs  Bifidobacteriales   \n",
      "\n",
      "               Family            Genus    Species  1  2  3  \n",
      "0  Bifidobacteriaceae  Bifidobacterium    bifidum  1  1  1  \n",
      "1  Bifidobacteriaceae     sdhcvgfvcbsd  sdbchc he  3  3  3  \n",
      "2  Bifidobacteriaceae  Bifidobacterium    bifidum  2  2  2  \n"
     ]
    }
   ],
   "source": [
    "import pandas as pd\n",
    "\n",
    "data = [\n",
    "    [\n",
    "        \"Bacteria\",\n",
    "        \"Actinobacteria\",\n",
    "        \"Actinobacteria\",\n",
    "        \"Bifidobacteriales\",\n",
    "        \"Bifidobacteriaceae\",\n",
    "        \"Bifidobacterium\",\n",
    "        \"bifidum\",\n",
    "        1,\n",
    "        1,\n",
    "        1\n",
    "    ],\n",
    "    [\n",
    "        \"Bacteria\",\n",
    "        \"Actinobacteria\",\n",
    "        \" hsgdyc\",\n",
    "        \"Bifidobacteriales\",\n",
    "        \"Bifidobacteriaceae\",\n",
    "        \"sdhcvgfvcbsd\",\n",
    "        \"sdbchc he\",\n",
    "        3,\n",
    "        3,\n",
    "        3\n",
    "    ],\n",
    "    [\n",
    "        \"Bacteria\",\n",
    "        \"Actinobacteria\",\n",
    "        \"yhauxhs\",\n",
    "        \"Bifidobacteriales\",\n",
    "        \"Bifidobacteriaceae\",\n",
    "        \"Bifidobacterium\",\n",
    "        \"bifidum\",\n",
    "        2,\n",
    "        2,\n",
    "        2\n",
    "    ]\n",
    "]\n",
    "\n",
    "df = pd.DataFrame(data, columns=[\n",
    "    \"Kingdom\",\n",
    "    \"Phylum\",\n",
    "    \"Class\",\n",
    "    \"Order\",\n",
    "    \"Family\",\n",
    "    \"Genus\",\n",
    "    \"Species\",\n",
    "    \"1\",\n",
    "    \"2\",\n",
    "    \"3\"\n",
    "])\n",
    "\n",
    "print(df)"
   ]
  },
  {
   "cell_type": "code",
   "execution_count": 13,
   "id": "df5d0458",
   "metadata": {},
   "outputs": [
    {
     "name": "stdout",
     "output_type": "stream",
     "text": [
      "                 1  2  3\n",
      "Genus                   \n",
      "Bifidobacterium  3  3  3\n",
      "sdhcvgfvcbsd     3  3  3\n"
     ]
    },
    {
     "name": "stderr",
     "output_type": "stream",
     "text": [
      "/var/folders/ct/bx1cd_wj20l3sd0ltrh3mbv00000gn/T/ipykernel_41706/504414826.py:3: FutureWarning: The default value of numeric_only in DataFrameGroupBy.sum is deprecated. In a future version, numeric_only will default to False. Either specify numeric_only or select only columns which should be valid for the function.\n",
      "  summed_df = grouped_df.sum()\n"
     ]
    }
   ],
   "source": [
    "grouped_df = df.groupby(\"Genus\")\n",
    "\n",
    "summed_df = grouped_df.sum()\n",
    "\n",
    "print(summed_df)"
   ]
  }
 ],
 "metadata": {
  "kernelspec": {
   "display_name": "Python 3 (ipykernel)",
   "language": "python",
   "name": "python3"
  },
  "language_info": {
   "codemirror_mode": {
    "name": "ipython",
    "version": 3
   },
   "file_extension": ".py",
   "mimetype": "text/x-python",
   "name": "python",
   "nbconvert_exporter": "python",
   "pygments_lexer": "ipython3",
   "version": "3.10.9"
  }
 },
 "nbformat": 4,
 "nbformat_minor": 5
}
